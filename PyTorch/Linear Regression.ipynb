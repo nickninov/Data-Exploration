{
  "nbformat": 4,
  "nbformat_minor": 0,
  "metadata": {
    "colab": {
      "name": "Linear Regression.ipynb",
      "provenance": [],
      "collapsed_sections": [
        "pTQyzrEapkD8"
      ]
    },
    "kernelspec": {
      "name": "python3",
      "display_name": "Python 3"
    },
    "language_info": {
      "name": "python"
    }
  },
  "cells": [
    {
      "cell_type": "markdown",
      "source": [
        "# Linear Regression with PyTorch\n",
        "Simple Linear Regression model with PyTorch."
      ],
      "metadata": {
        "id": "HlczlKFTdA-5"
      }
    },
    {
      "cell_type": "code",
      "execution_count": 2,
      "metadata": {
        "id": "UoBX0tRIU6So"
      },
      "outputs": [],
      "source": [
        "import numpy as np\n",
        "import matplotlib.pyplot as plt\n",
        "\n",
        "import torch\n",
        "import torch.nn as nn\n",
        "import torch.nn.functional as F\n",
        "from torch.utils.data import TensorDataset, DataLoader"
      ]
    },
    {
      "cell_type": "markdown",
      "source": [
        "## Data Preparation\n",
        "Generate dummy data and prepare it to be given to the model."
      ],
      "metadata": {
        "id": "XPnDjyd0peck"
      }
    },
    {
      "cell_type": "code",
      "source": [
        "# Input (temp, rainfall, humidity)\n",
        "inputs = np.array([[73, 67, 43], [91, 88, 64], [87, 134, 58], \n",
        "                   [102, 43, 37], [69, 96, 70], [74, 66, 43], \n",
        "                   [91, 87, 65], [88, 134, 59], [101, 44, 37], \n",
        "                   [68, 96, 71], [73, 66, 44], [92, 87, 64], \n",
        "                   [87, 135, 57], [103, 43, 36], [68, 97, 70]], \n",
        "                  dtype='float32')\n",
        "\n",
        "# Targets (apples, oranges)\n",
        "targets = np.array([[56, 70], [81, 101], [119, 133], \n",
        "                    [22, 37], [103, 119],[57, 69], \n",
        "                    [80, 102], [118, 132], [21, 38], \n",
        "                    [104, 118], [57, 69], [82, 100], \n",
        "                    [118, 134], [20, 38], [102, 120]], \n",
        "                   dtype='float32')\n",
        "\n",
        "# Transform data from numpy to tensor\n",
        "inputs = torch.from_numpy(inputs)\n",
        "targets = torch.from_numpy(targets)\n",
        "\n",
        "print(f\"Input data shape:\\t{inputs.shape}\\n\")\n",
        "print(f\"Target data shape:\\t{targets.shape}\")\n",
        "\n",
        "# Convert data into Tensor tuple\n",
        "train = TensorDataset(inputs, targets)\n",
        "# Split data into batches\n",
        "batch_size = 5\n",
        "train = DataLoader(train, batch_size, shuffle=True)"
      ],
      "metadata": {
        "colab": {
          "base_uri": "https://localhost:8080/"
        },
        "id": "20CGROJU9oUP",
        "outputId": "efdb1208-a794-4a62-a476-fbd73b4a8b70"
      },
      "execution_count": 3,
      "outputs": [
        {
          "output_type": "stream",
          "name": "stdout",
          "text": [
            "Input data shape:\ttorch.Size([15, 3])\n",
            "\n",
            "Target data shape:\ttorch.Size([15, 2])\n"
          ]
        }
      ]
    },
    {
      "cell_type": "markdown",
      "source": [
        "## Model"
      ],
      "metadata": {
        "id": "pTQyzrEapkD8"
      }
    },
    {
      "cell_type": "code",
      "source": [
        "class LinearRegression():\n",
        "  def __init__(self, inputs, outputs, learning_rate, epochs):\n",
        "    # Iterations of the dataset\n",
        "    self.epochs = epochs\n",
        "    # Linear layer - fully connected\n",
        "    self.model = nn.Linear(inputs, outputs)\n",
        "    # Assign loss function - Mean Squared Error\n",
        "    self.loss = F.mse_loss\n",
        "    # Assign optimizer - Stochastic Gradient Descent\n",
        "    self.opt = torch.optim.SGD(self.model.parameters(), lr=learning_rate)\n",
        "\n",
        "    self.history = {\n",
        "        \"loss\": [],\n",
        "        \"epochs\": range(self.epochs)\n",
        "    }\n",
        "\n",
        "  # Trains the model   \n",
        "  def fit(self, train):\n",
        "    # How many times to go over the whole dataset\n",
        "    for epoch in range(self.epochs):\n",
        "      # Go through a given number of examples\n",
        "      for x_batch, y_batch in train:\n",
        "        # 1) Model generates the predictions\n",
        "        predictions = self.model(x_batch)\n",
        "        # 2) Update the loss for current predictions\n",
        "        loss = self.loss(predictions, y_batch)\n",
        "        # 3) Compute gradients\n",
        "        loss.backward()\n",
        "        # 4) Update parameters\n",
        "        self.opt.step()\n",
        "        # 5) Reset gradients\n",
        "        self.opt.zero_grad()\n",
        "\n",
        "      # Append loss from current batch\n",
        "      self.history[\"loss\"].append(round(loss.item() / 100, 2))\n",
        "      \n",
        "      # Display progress\n",
        "      print(f\"Epoch [{epoch}/{self.epochs}], Loss: {round(loss.item() / 100, 2)}\")\n",
        "    \n",
        "  # Predict new training examples\n",
        "  def predict(self, x):\n",
        "    return self.model(x)"
      ],
      "metadata": {
        "id": "0va1rn5VSqa2"
      },
      "execution_count": 4,
      "outputs": []
    },
    {
      "cell_type": "code",
      "source": [
        "# Call Linear Regression model\n",
        "lr = LinearRegression(inputs.shape[1], targets.shape[1], 1e-5, 10)\n",
        "lr.fit(train)"
      ],
      "metadata": {
        "colab": {
          "base_uri": "https://localhost:8080/"
        },
        "id": "8LmJbha3eXIY",
        "outputId": "5a900131-5670-472f-d10d-c82cac95cea6"
      },
      "execution_count": 5,
      "outputs": [
        {
          "output_type": "stream",
          "name": "stdout",
          "text": [
            "Epoch [0/10], Loss: 38.19\n",
            "Epoch [1/10], Loss: 23.99\n",
            "Epoch [2/10], Loss: 9.35\n",
            "Epoch [3/10], Loss: 3.8\n",
            "Epoch [4/10], Loss: 1.64\n",
            "Epoch [5/10], Loss: 1.45\n",
            "Epoch [6/10], Loss: 2.01\n",
            "Epoch [7/10], Loss: 1.24\n",
            "Epoch [8/10], Loss: 1.24\n",
            "Epoch [9/10], Loss: 1.47\n"
          ]
        }
      ]
    },
    {
      "cell_type": "code",
      "source": [
        "# Display loss over time\n",
        "plt.figure(figsize=(10, 6))\n",
        "plt.title(\"Loss over time\")\n",
        "plt.xlabel(\"Epochs\")\n",
        "plt.ylabel(\"Loss\")\n",
        "plt.plot(lr.history[\"epochs\"], lr.history[\"loss\"])\n",
        "plt.plot(lr.history[\"epochs\"], lr.history[\"loss\"], \"or\")\n",
        "plt.show()"
      ],
      "metadata": {
        "colab": {
          "base_uri": "https://localhost:8080/",
          "height": 404
        },
        "id": "TvzKi7FGqG79",
        "outputId": "4a6572db-dd86-4d0f-a691-f01af7a53d4a"
      },
      "execution_count": 6,
      "outputs": [
        {
          "output_type": "display_data",
          "data": {
            "image/png": "[encoded data removed]",
            "text/plain": [
              "<Figure size 720x432 with 1 Axes>"
            ]
          },
          "metadata": {
            "needs_background": "light"
          }
        }
      ]
    },
    {
      "cell_type": "code",
      "source": [
        "lr.predict(torch.tensor([[75, 63, 44.]]))"
      ],
      "metadata": {
        "colab": {
          "base_uri": "https://localhost:8080/"
        },
        "id": "h35MNUJYqOIW",
        "outputId": "a6cb8f76-89de-439c-ac42-a33fec321c04"
      },
      "execution_count": 8,
      "outputs": [
        {
          "output_type": "execute_result",
          "data": {
            "text/plain": [
              "tensor([[57.0544, 73.1434]], grad_fn=<AddmmBackward0>)"
            ]
          },
          "metadata": {},
          "execution_count": 8
        }
      ]
    }
  ]
}